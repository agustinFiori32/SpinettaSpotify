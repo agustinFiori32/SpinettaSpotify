{
 "cells": [
  {
   "cell_type": "code",
   "execution_count": 28,
   "metadata": {},
   "outputs": [],
   "source": [
    "import spotipy\n",
    "from spotipy.oauth2 import SpotifyClientCredentials\n",
    "\n",
    "import pandas as pd \n",
    "import numpy as np \n",
    "import matplotlib.pyplot as plt \n",
    "import seaborn as sns\n",
    "import plotly.express as px"
   ]
  },
  {
   "cell_type": "code",
   "execution_count": 29,
   "metadata": {},
   "outputs": [],
   "source": [
    "#Credenciales para el acceso a la API\n",
    "client = '07953c61b57244fb98e14123f362c5f4' #ingresar clave cliente propia\n",
    "client_secret = 'd30d366325854a308dad18fcfaa4ae3e' #ingresar clave cliente secreta propia"
   ]
  },
  {
   "cell_type": "code",
   "execution_count": 30,
   "metadata": {},
   "outputs": [],
   "source": [
    "client_credentials_manager = SpotifyClientCredentials(client_id=client, client_secret=client_secret)\n",
    "sp = spotipy.Spotify(client_credentials_manager=client_credentials_manager)"
   ]
  },
  {
   "cell_type": "markdown",
   "metadata": {},
   "source": [
    "Vamos a crear una funcion que nos devuelva el ID del artista solicitado"
   ]
  },
  {
   "cell_type": "code",
   "execution_count": 31,
   "metadata": {},
   "outputs": [
    {
     "name": "stdout",
     "output_type": "stream",
     "text": [
      "1MuQ2m2tg7naeRGAOxYZer\n"
     ]
    }
   ],
   "source": [
    "def obtenerID(artista):\n",
    "    results = sp.search(q=artista, limit=1, type='artist')\n",
    "    return results['artists']['items'][0]['id']\n",
    "\n",
    "#Vamos a probar su funcionalidad\n",
    "\n",
    "print(obtenerID('Spinetta'))"
   ]
  },
  {
   "cell_type": "markdown",
   "metadata": {},
   "source": [
    "A la par que creamos una funcion que nos entregue información relevante sobre el artista, vamos a confirmar que el ID es correcto"
   ]
  },
  {
   "cell_type": "code",
   "execution_count": 32,
   "metadata": {},
   "outputs": [],
   "source": [
    "def obtenerData(artista_id):\n",
    "    canciones_data = []\n",
    "    \n",
    "    albumes = sp.artist_albums(artista_id, album_type='album')\n",
    "    singles = sp.artist_albums(artista_id, album_type='single')\n",
    "    \n",
    "    for album in albumes['items'] + singles['items']:\n",
    "        album_nombre = album['name']\n",
    "        album_tipo = {'album':'Álbum', 'single':'Single'}[album['album_type']]\n",
    "        album_año = album['release_date'].split('-')[0]\n",
    "        \n",
    "        tracks = sp.album_tracks(album['id'])\n",
    "\n",
    "        for track in tracks['items']:\n",
    "            cancion_nombre = track['name']\n",
    "            cancion_artistas = ', '.join([t['name'] for t in track['artists']])\n",
    "            cancion_duracion = round(track['duration_ms'] / 60000, 2)\n",
    "            cancion_popularidad = sp.track(track['id'])['popularity']\n",
    "            \n",
    "            \n",
    "            canciones_data.append([album_nombre, album_tipo, album_año, cancion_nombre, cancion_artistas, cancion_duracion, cancion_popularidad])\n",
    "            \n",
    "    return pd.DataFrame(canciones_data, columns=['Álbum', 'Tipo', 'Año', 'Canción', 'Artistas', 'Duración', 'Popularidad'])"
   ]
  },
  {
   "cell_type": "code",
   "execution_count": 33,
   "metadata": {},
   "outputs": [],
   "source": [
    "spinetta_id = obtenerID('Spinetta')\n",
    "df_spinetta = obtenerData(spinetta_id)"
   ]
  },
  {
   "cell_type": "code",
   "execution_count": 34,
   "metadata": {},
   "outputs": [
    {
     "data": {
      "text/html": [
       "<div>\n",
       "<style scoped>\n",
       "    .dataframe tbody tr th:only-of-type {\n",
       "        vertical-align: middle;\n",
       "    }\n",
       "\n",
       "    .dataframe tbody tr th {\n",
       "        vertical-align: top;\n",
       "    }\n",
       "\n",
       "    .dataframe thead th {\n",
       "        text-align: right;\n",
       "    }\n",
       "</style>\n",
       "<table border=\"1\" class=\"dataframe\">\n",
       "  <thead>\n",
       "    <tr style=\"text-align: right;\">\n",
       "      <th></th>\n",
       "      <th>Álbum</th>\n",
       "      <th>Tipo</th>\n",
       "      <th>Año</th>\n",
       "      <th>Canción</th>\n",
       "      <th>Artistas</th>\n",
       "      <th>Duración</th>\n",
       "      <th>Popularidad</th>\n",
       "    </tr>\n",
       "  </thead>\n",
       "  <tbody>\n",
       "    <tr>\n",
       "      <th>0</th>\n",
       "      <td>Estrelicia - MTV Unplugged</td>\n",
       "      <td>Álbum</td>\n",
       "      <td>2021</td>\n",
       "      <td>Durazno Sangrando - En Vivo</td>\n",
       "      <td>Luis Alberto Spinetta</td>\n",
       "      <td>4.60</td>\n",
       "      <td>37</td>\n",
       "    </tr>\n",
       "    <tr>\n",
       "      <th>1</th>\n",
       "      <td>Estrelicia - MTV Unplugged</td>\n",
       "      <td>Álbum</td>\n",
       "      <td>2021</td>\n",
       "      <td>La Montaña - En Vivo</td>\n",
       "      <td>Luis Alberto Spinetta</td>\n",
       "      <td>3.48</td>\n",
       "      <td>31</td>\n",
       "    </tr>\n",
       "    <tr>\n",
       "      <th>2</th>\n",
       "      <td>Estrelicia - MTV Unplugged</td>\n",
       "      <td>Álbum</td>\n",
       "      <td>2021</td>\n",
       "      <td>Fuji - En Vivo</td>\n",
       "      <td>Luis Alberto Spinetta</td>\n",
       "      <td>4.18</td>\n",
       "      <td>38</td>\n",
       "    </tr>\n",
       "    <tr>\n",
       "      <th>3</th>\n",
       "      <td>Estrelicia - MTV Unplugged</td>\n",
       "      <td>Álbum</td>\n",
       "      <td>2021</td>\n",
       "      <td>La Miel en Tu Ventana - En Vivo</td>\n",
       "      <td>Luis Alberto Spinetta</td>\n",
       "      <td>2.22</td>\n",
       "      <td>37</td>\n",
       "    </tr>\n",
       "    <tr>\n",
       "      <th>4</th>\n",
       "      <td>Estrelicia - MTV Unplugged</td>\n",
       "      <td>Álbum</td>\n",
       "      <td>2021</td>\n",
       "      <td>Tu Nombre Sobre Mi Nombre - En Vivo</td>\n",
       "      <td>Luis Alberto Spinetta</td>\n",
       "      <td>5.30</td>\n",
       "      <td>38</td>\n",
       "    </tr>\n",
       "  </tbody>\n",
       "</table>\n",
       "</div>"
      ],
      "text/plain": [
       "                        Álbum   Tipo   Año  \\\n",
       "0  Estrelicia - MTV Unplugged  Álbum  2021   \n",
       "1  Estrelicia - MTV Unplugged  Álbum  2021   \n",
       "2  Estrelicia - MTV Unplugged  Álbum  2021   \n",
       "3  Estrelicia - MTV Unplugged  Álbum  2021   \n",
       "4  Estrelicia - MTV Unplugged  Álbum  2021   \n",
       "\n",
       "                               Canción               Artistas  Duración  \\\n",
       "0          Durazno Sangrando - En Vivo  Luis Alberto Spinetta      4.60   \n",
       "1                 La Montaña - En Vivo  Luis Alberto Spinetta      3.48   \n",
       "2                       Fuji - En Vivo  Luis Alberto Spinetta      4.18   \n",
       "3      La Miel en Tu Ventana - En Vivo  Luis Alberto Spinetta      2.22   \n",
       "4  Tu Nombre Sobre Mi Nombre - En Vivo  Luis Alberto Spinetta      5.30   \n",
       "\n",
       "   Popularidad  \n",
       "0           37  \n",
       "1           31  \n",
       "2           38  \n",
       "3           37  \n",
       "4           38  "
      ]
     },
     "execution_count": 34,
     "metadata": {},
     "output_type": "execute_result"
    }
   ],
   "source": [
    "df_spinetta.head()"
   ]
  },
  {
   "cell_type": "markdown",
   "metadata": {},
   "source": [
    "Al parecer todo es correcto, ahora toca explorar un poco lo obtenido"
   ]
  },
  {
   "cell_type": "code",
   "execution_count": 35,
   "metadata": {},
   "outputs": [
    {
     "name": "stdout",
     "output_type": "stream",
     "text": [
      "<class 'pandas.core.frame.DataFrame'>\n",
      "RangeIndex: 328 entries, 0 to 327\n",
      "Data columns (total 7 columns):\n",
      " #   Column       Non-Null Count  Dtype  \n",
      "---  ------       --------------  -----  \n",
      " 0   Álbum        328 non-null    object \n",
      " 1   Tipo         328 non-null    object \n",
      " 2   Año          328 non-null    object \n",
      " 3   Canción      328 non-null    object \n",
      " 4   Artistas     328 non-null    object \n",
      " 5   Duración     328 non-null    float64\n",
      " 6   Popularidad  328 non-null    int64  \n",
      "dtypes: float64(1), int64(1), object(5)\n",
      "memory usage: 18.1+ KB\n"
     ]
    }
   ],
   "source": [
    "df_spinetta.info()"
   ]
  },
  {
   "cell_type": "code",
   "execution_count": 36,
   "metadata": {},
   "outputs": [],
   "source": [
    "canciones_populares = df_spinetta.sort_values(by='Popularidad', ascending=False).head(10)"
   ]
  },
  {
   "cell_type": "code",
   "execution_count": 37,
   "metadata": {},
   "outputs": [
    {
     "data": {
      "text/html": [
       "<div>\n",
       "<style scoped>\n",
       "    .dataframe tbody tr th:only-of-type {\n",
       "        vertical-align: middle;\n",
       "    }\n",
       "\n",
       "    .dataframe tbody tr th {\n",
       "        vertical-align: top;\n",
       "    }\n",
       "\n",
       "    .dataframe thead th {\n",
       "        text-align: right;\n",
       "    }\n",
       "</style>\n",
       "<table border=\"1\" class=\"dataframe\">\n",
       "  <thead>\n",
       "    <tr style=\"text-align: right;\">\n",
       "      <th></th>\n",
       "      <th>Álbum</th>\n",
       "      <th>Tipo</th>\n",
       "      <th>Año</th>\n",
       "      <th>Canción</th>\n",
       "      <th>Artistas</th>\n",
       "      <th>Duración</th>\n",
       "      <th>Popularidad</th>\n",
       "    </tr>\n",
       "  </thead>\n",
       "  <tbody>\n",
       "    <tr>\n",
       "      <th>257</th>\n",
       "      <td>Peluson Of Milk</td>\n",
       "      <td>Álbum</td>\n",
       "      <td>1991</td>\n",
       "      <td>Seguir Viviendo Sin Tu Amor</td>\n",
       "      <td>Luis Alberto Spinetta</td>\n",
       "      <td>2.68</td>\n",
       "      <td>72</td>\n",
       "    </tr>\n",
       "    <tr>\n",
       "      <th>107</th>\n",
       "      <td>Spinetta y Las Bandas Eternas</td>\n",
       "      <td>Álbum</td>\n",
       "      <td>2010</td>\n",
       "      <td>Bajan (En Vivo Estadio Vélez Sarsfield) (feat....</td>\n",
       "      <td>Luis Alberto Spinetta, Gustavo Cerati</td>\n",
       "      <td>3.77</td>\n",
       "      <td>59</td>\n",
       "    </tr>\n",
       "    <tr>\n",
       "      <th>114</th>\n",
       "      <td>Spinetta y Las Bandas Eternas</td>\n",
       "      <td>Álbum</td>\n",
       "      <td>2010</td>\n",
       "      <td>Rezo por Vos (En Vivo Estadio Vélez Sarsfield)...</td>\n",
       "      <td>Luis Alberto Spinetta, Charly García</td>\n",
       "      <td>4.55</td>\n",
       "      <td>58</td>\n",
       "    </tr>\n",
       "    <tr>\n",
       "      <th>106</th>\n",
       "      <td>Spinetta y Las Bandas Eternas</td>\n",
       "      <td>Álbum</td>\n",
       "      <td>2010</td>\n",
       "      <td>Té para Tres (En Vivo Estadio Vélez Sarsfield)...</td>\n",
       "      <td>Luis Alberto Spinetta, Gustavo Cerati</td>\n",
       "      <td>3.27</td>\n",
       "      <td>57</td>\n",
       "    </tr>\n",
       "    <tr>\n",
       "      <th>82</th>\n",
       "      <td>Ya No Mires Atrás</td>\n",
       "      <td>Álbum</td>\n",
       "      <td>2020</td>\n",
       "      <td>Ya No Mires Atrás</td>\n",
       "      <td>Luis Alberto Spinetta</td>\n",
       "      <td>3.73</td>\n",
       "      <td>55</td>\n",
       "    </tr>\n",
       "    <tr>\n",
       "      <th>314</th>\n",
       "      <td>La La La</td>\n",
       "      <td>Álbum</td>\n",
       "      <td>1986</td>\n",
       "      <td>Parte Del Aire</td>\n",
       "      <td>Fito Paez, Luis Alberto Spinetta</td>\n",
       "      <td>5.09</td>\n",
       "      <td>47</td>\n",
       "    </tr>\n",
       "    <tr>\n",
       "      <th>303</th>\n",
       "      <td>La La La</td>\n",
       "      <td>Álbum</td>\n",
       "      <td>1986</td>\n",
       "      <td>Instant-Taneas</td>\n",
       "      <td>Fito Paez, Luis Alberto Spinetta</td>\n",
       "      <td>5.62</td>\n",
       "      <td>46</td>\n",
       "    </tr>\n",
       "    <tr>\n",
       "      <th>212</th>\n",
       "      <td>Elija Y Gane</td>\n",
       "      <td>Álbum</td>\n",
       "      <td>1999</td>\n",
       "      <td>Quedándote O Yéndote</td>\n",
       "      <td>Luis Alberto Spinetta</td>\n",
       "      <td>3.49</td>\n",
       "      <td>46</td>\n",
       "    </tr>\n",
       "    <tr>\n",
       "      <th>154</th>\n",
       "      <td>Pan</td>\n",
       "      <td>Álbum</td>\n",
       "      <td>2005</td>\n",
       "      <td>Dale Luz Al Instante</td>\n",
       "      <td>Luis Alberto Spinetta</td>\n",
       "      <td>5.11</td>\n",
       "      <td>44</td>\n",
       "    </tr>\n",
       "    <tr>\n",
       "      <th>283</th>\n",
       "      <td>Don Lucero</td>\n",
       "      <td>Álbum</td>\n",
       "      <td>1989</td>\n",
       "      <td>Fina Ropa Blanca</td>\n",
       "      <td>Luis Alberto Spinetta</td>\n",
       "      <td>5.27</td>\n",
       "      <td>44</td>\n",
       "    </tr>\n",
       "  </tbody>\n",
       "</table>\n",
       "</div>"
      ],
      "text/plain": [
       "                             Álbum   Tipo   Año  \\\n",
       "257                Peluson Of Milk  Álbum  1991   \n",
       "107  Spinetta y Las Bandas Eternas  Álbum  2010   \n",
       "114  Spinetta y Las Bandas Eternas  Álbum  2010   \n",
       "106  Spinetta y Las Bandas Eternas  Álbum  2010   \n",
       "82               Ya No Mires Atrás  Álbum  2020   \n",
       "314                       La La La  Álbum  1986   \n",
       "303                       La La La  Álbum  1986   \n",
       "212                   Elija Y Gane  Álbum  1999   \n",
       "154                            Pan  Álbum  2005   \n",
       "283                     Don Lucero  Álbum  1989   \n",
       "\n",
       "                                               Canción  \\\n",
       "257                        Seguir Viviendo Sin Tu Amor   \n",
       "107  Bajan (En Vivo Estadio Vélez Sarsfield) (feat....   \n",
       "114  Rezo por Vos (En Vivo Estadio Vélez Sarsfield)...   \n",
       "106  Té para Tres (En Vivo Estadio Vélez Sarsfield)...   \n",
       "82                                   Ya No Mires Atrás   \n",
       "314                                     Parte Del Aire   \n",
       "303                                     Instant-Taneas   \n",
       "212                               Quedándote O Yéndote   \n",
       "154                               Dale Luz Al Instante   \n",
       "283                                   Fina Ropa Blanca   \n",
       "\n",
       "                                  Artistas  Duración  Popularidad  \n",
       "257                  Luis Alberto Spinetta      2.68           72  \n",
       "107  Luis Alberto Spinetta, Gustavo Cerati      3.77           59  \n",
       "114   Luis Alberto Spinetta, Charly García      4.55           58  \n",
       "106  Luis Alberto Spinetta, Gustavo Cerati      3.27           57  \n",
       "82                   Luis Alberto Spinetta      3.73           55  \n",
       "314       Fito Paez, Luis Alberto Spinetta      5.09           47  \n",
       "303       Fito Paez, Luis Alberto Spinetta      5.62           46  \n",
       "212                  Luis Alberto Spinetta      3.49           46  \n",
       "154                  Luis Alberto Spinetta      5.11           44  \n",
       "283                  Luis Alberto Spinetta      5.27           44  "
      ]
     },
     "execution_count": 37,
     "metadata": {},
     "output_type": "execute_result"
    }
   ],
   "source": [
    "canciones_populares"
   ]
  },
  {
   "cell_type": "code",
   "execution_count": 38,
   "metadata": {},
   "outputs": [
    {
     "data": {
      "image/png": "[encoded data removed]",
      "text/plain": [
       "<Figure size 640x480 with 1 Axes>"
      ]
     },
     "metadata": {},
     "output_type": "display_data"
    }
   ],
   "source": [
    "plt.barh(data=canciones_populares, y= 'Canción', width= 'Popularidad')\n",
    "plt.title('Canciones más populares de spinetta')\n",
    "plt.show()"
   ]
  },
  {
   "cell_type": "markdown",
   "metadata": {},
   "source": [
    "Vamos a probar con otro artista para una futura comparacion"
   ]
  },
  {
   "cell_type": "code",
   "execution_count": 41,
   "metadata": {},
   "outputs": [],
   "source": [
    "charly_id = obtenerID('Charly García')\n",
    "df_charly = obtenerData(charly_id)"
   ]
  },
  {
   "cell_type": "code",
   "execution_count": 42,
   "metadata": {},
   "outputs": [
    {
     "data": {
      "text/html": [
       "<div>\n",
       "<style scoped>\n",
       "    .dataframe tbody tr th:only-of-type {\n",
       "        vertical-align: middle;\n",
       "    }\n",
       "\n",
       "    .dataframe tbody tr th {\n",
       "        vertical-align: top;\n",
       "    }\n",
       "\n",
       "    .dataframe thead th {\n",
       "        text-align: right;\n",
       "    }\n",
       "</style>\n",
       "<table border=\"1\" class=\"dataframe\">\n",
       "  <thead>\n",
       "    <tr style=\"text-align: right;\">\n",
       "      <th></th>\n",
       "      <th>Álbum</th>\n",
       "      <th>Tipo</th>\n",
       "      <th>Año</th>\n",
       "      <th>Canción</th>\n",
       "      <th>Artistas</th>\n",
       "      <th>Duración</th>\n",
       "      <th>Popularidad</th>\n",
       "    </tr>\n",
       "  </thead>\n",
       "  <tbody>\n",
       "    <tr>\n",
       "      <th>0</th>\n",
       "      <td>Obras Cumbres</td>\n",
       "      <td>Álbum</td>\n",
       "      <td>2021</td>\n",
       "      <td>No Voy en Tren</td>\n",
       "      <td>Charly García</td>\n",
       "      <td>3.03</td>\n",
       "      <td>34</td>\n",
       "    </tr>\n",
       "    <tr>\n",
       "      <th>1</th>\n",
       "      <td>Obras Cumbres</td>\n",
       "      <td>Álbum</td>\n",
       "      <td>2021</td>\n",
       "      <td>Tu Amor</td>\n",
       "      <td>Charly García, Pedro Aznar</td>\n",
       "      <td>3.11</td>\n",
       "      <td>33</td>\n",
       "    </tr>\n",
       "    <tr>\n",
       "      <th>2</th>\n",
       "      <td>Obras Cumbres</td>\n",
       "      <td>Álbum</td>\n",
       "      <td>2021</td>\n",
       "      <td>Hablando a Tu Corazón</td>\n",
       "      <td>Charly García, Pedro Aznar</td>\n",
       "      <td>4.26</td>\n",
       "      <td>33</td>\n",
       "    </tr>\n",
       "    <tr>\n",
       "      <th>3</th>\n",
       "      <td>Obras Cumbres</td>\n",
       "      <td>Álbum</td>\n",
       "      <td>2021</td>\n",
       "      <td>Rezo por Vos</td>\n",
       "      <td>Charly García</td>\n",
       "      <td>4.48</td>\n",
       "      <td>33</td>\n",
       "    </tr>\n",
       "    <tr>\n",
       "      <th>4</th>\n",
       "      <td>Obras Cumbres</td>\n",
       "      <td>Álbum</td>\n",
       "      <td>2021</td>\n",
       "      <td>Me Siento Mucho Mejor</td>\n",
       "      <td>Charly García</td>\n",
       "      <td>3.08</td>\n",
       "      <td>32</td>\n",
       "    </tr>\n",
       "  </tbody>\n",
       "</table>\n",
       "</div>"
      ],
      "text/plain": [
       "           Álbum   Tipo   Año                Canción  \\\n",
       "0  Obras Cumbres  Álbum  2021         No Voy en Tren   \n",
       "1  Obras Cumbres  Álbum  2021                Tu Amor   \n",
       "2  Obras Cumbres  Álbum  2021  Hablando a Tu Corazón   \n",
       "3  Obras Cumbres  Álbum  2021           Rezo por Vos   \n",
       "4  Obras Cumbres  Álbum  2021  Me Siento Mucho Mejor   \n",
       "\n",
       "                     Artistas  Duración  Popularidad  \n",
       "0               Charly García      3.03           34  \n",
       "1  Charly García, Pedro Aznar      3.11           33  \n",
       "2  Charly García, Pedro Aznar      4.26           33  \n",
       "3               Charly García      4.48           33  \n",
       "4               Charly García      3.08           32  "
      ]
     },
     "execution_count": 42,
     "metadata": {},
     "output_type": "execute_result"
    }
   ],
   "source": [
    "df_charly.head()"
   ]
  },
  {
   "cell_type": "code",
   "execution_count": 43,
   "metadata": {},
   "outputs": [
    {
     "name": "stdout",
     "output_type": "stream",
     "text": [
      "<class 'pandas.core.frame.DataFrame'>\n",
      "RangeIndex: 284 entries, 0 to 283\n",
      "Data columns (total 7 columns):\n",
      " #   Column       Non-Null Count  Dtype  \n",
      "---  ------       --------------  -----  \n",
      " 0   Álbum        284 non-null    object \n",
      " 1   Tipo         284 non-null    object \n",
      " 2   Año          284 non-null    object \n",
      " 3   Canción      284 non-null    object \n",
      " 4   Artistas     284 non-null    object \n",
      " 5   Duración     284 non-null    float64\n",
      " 6   Popularidad  284 non-null    int64  \n",
      "dtypes: float64(1), int64(1), object(5)\n",
      "memory usage: 15.7+ KB\n"
     ]
    }
   ],
   "source": [
    "df_charly.info()"
   ]
  },
  {
   "cell_type": "code",
   "execution_count": 45,
   "metadata": {},
   "outputs": [],
   "source": [
    "canciones_populares_charly = df_charly.sort_values(by='Popularidad', ascending=False).head(10)"
   ]
  },
  {
   "cell_type": "code",
   "execution_count": 46,
   "metadata": {},
   "outputs": [
    {
     "data": {
      "image/png": "[encoded data removed]",
      "text/plain": [
       "<Figure size 640x480 with 1 Axes>"
      ]
     },
     "metadata": {},
     "output_type": "display_data"
    }
   ],
   "source": [
    "plt.barh(data=canciones_populares_charly, y= 'Canción', width= 'Popularidad')\n",
    "plt.title('Canciones más populares de spinetta')\n",
    "plt.show()"
   ]
  },
  {
   "cell_type": "markdown",
   "metadata": {},
   "source": [
    "Me gustaría agregar una columna para el artista invitado"
   ]
  },
  {
   "cell_type": "code",
   "execution_count": 47,
   "metadata": {},
   "outputs": [],
   "source": [
    "def obtener_invitado(artistas):\n",
    "    if ',' in artistas:\n",
    "        if artistas.split(', ')[1] != 'Luis Alberto Spinetta':\n",
    "            # Si hay una coma en la cadena, separamos los artistas y tomamos el segundo elemento\n",
    "            return artistas.split(', ')[1]\n",
    "        else:\n",
    "            return artistas.split(', ')[0]\n",
    "    else:\n",
    "        return None"
   ]
  },
  {
   "cell_type": "code",
   "execution_count": 48,
   "metadata": {},
   "outputs": [],
   "source": [
    "df_spinetta['Invitado'] = df_spinetta['Artistas'].apply(obtener_invitado)"
   ]
  },
  {
   "cell_type": "code",
   "execution_count": 51,
   "metadata": {},
   "outputs": [
    {
     "data": {
      "text/plain": [
       "Invitado\n",
       "Fito Paez          25\n",
       "Pescado Rabioso     7\n",
       "Invisible           5\n",
       "Gustavo Cerati      3\n",
       "Almendra            3\n",
       "Charly García       2\n",
       "Ricardo Mollo       2\n",
       "Juanse              1\n",
       "Dante Spinetta      1\n",
       "CACUCA              1\n",
       "Name: count, dtype: int64"
      ]
     },
     "execution_count": 51,
     "metadata": {},
     "output_type": "execute_result"
    }
   ],
   "source": [
    "df_spinetta['Invitado'].value_counts()"
   ]
  },
  {
   "cell_type": "markdown",
   "metadata": {},
   "source": [
    "Funciona perfectamente, ahora se la aplicaremos a nuestro otro df antes de exportar la data para una posterior visualizacion en Power BI"
   ]
  },
  {
   "cell_type": "code",
   "execution_count": 52,
   "metadata": {},
   "outputs": [],
   "source": [
    "df_charly['Invitado'] = df_charly['Artistas'].apply(obtener_invitado)"
   ]
  },
  {
   "cell_type": "code",
   "execution_count": 53,
   "metadata": {},
   "outputs": [
    {
     "data": {
      "text/plain": [
       "Invitado\n",
       "Pedro Aznar      24\n",
       "Diego Dubarry     1\n",
       "Name: count, dtype: int64"
      ]
     },
     "execution_count": 53,
     "metadata": {},
     "output_type": "execute_result"
    }
   ],
   "source": [
    "df_charly['Invitado'].value_counts()"
   ]
  },
  {
   "cell_type": "markdown",
   "metadata": {},
   "source": [
    "Exportamos para finalizar"
   ]
  },
  {
   "cell_type": "code",
   "execution_count": 58,
   "metadata": {},
   "outputs": [],
   "source": [
    "df_spinetta.to_excel('SpinettaData.xlsx', index=False)\n",
    "df_charly.to_excel('CharlyData.xlsx', index=False)"
   ]
  }
 ],
 "metadata": {
  "kernelspec": {
   "display_name": "Python 3",
   "language": "python",
   "name": "python3"
  },
  "language_info": {
   "codemirror_mode": {
    "name": "ipython",
    "version": 3
   },
   "file_extension": ".py",
   "mimetype": "text/x-python",
   "name": "python",
   "nbconvert_exporter": "python",
   "pygments_lexer": "ipython3",
   "version": "3.11.4"
  }
 },
 "nbformat": 4,
 "nbformat_minor": 2
}
